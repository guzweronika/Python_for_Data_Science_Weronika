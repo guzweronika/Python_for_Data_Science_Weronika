{
 "cells": [
  {
   "cell_type": "code",
   "execution_count": 1,
   "metadata": {},
   "outputs": [
    {
     "name": "stdout",
     "output_type": "stream",
     "text": [
      "Whole array\n",
      "[[[ 1  2  3]\n",
      "  [ 4  5  6]\n",
      "  [ 7  8  9]]\n",
      "\n",
      " [[11 12 13]\n",
      "  [14 15 16]\n",
      "  [17 18 19]]\n",
      "\n",
      " [[21 22 23]\n",
      "  [24 25 26]\n",
      "  [27 28 29]]]\n",
      "\n",
      "Array: secound row and second collumn.\n",
      "[14 15 16]\n",
      "\n",
      "Array: in each column, secound row, each secound variable.\n",
      "[ 5 15 25]\n",
      "\n",
      "Array: in secound column, in each row, each secound variable.\n",
      "[12 15 18]\n",
      "\n",
      "Array: for secound collumn and the range from secound to third row.\n",
      "[[24 25 26]\n",
      " [27 28 29]]\n"
     ]
    }
   ],
   "source": [
    "import numpy as np\n",
    "\n",
    "x = np.array([[[1, 2, 3], [4, 5, 6], [7, 8, 9],], \n",
    "              [[11, 12, 13], [14, 15, 16], [17, 18, 19],],\n",
    "              [[21, 22, 23], [24, 25 ,26], [27, 28, 29]]])\n",
    "\n",
    "\n",
    "print(\"Whole array\")\n",
    "print(x)\n",
    "\n",
    "print(\"\\nArray: secound row and second collumn.\")\n",
    "print(x[1, 1])\n",
    "\n",
    "print(\"\\nArray: in each column, secound row, each secound variable.\")\n",
    "print(x[:, 1, 1])\n",
    "\n",
    "print(\"\\nArray: in secound column, in each row, each secound variable.\")\n",
    "print(x[1, :, 1])\n",
    "\n",
    "print(\"\\nArray: for secound collumn and the range from secound to third row.\")\n",
    "print(x[2, 1:3])"
   ]
  }
 ],
 "metadata": {
  "kernelspec": {
   "display_name": "Python 3",
   "language": "python",
   "name": "python3"
  },
  "language_info": {
   "codemirror_mode": {
    "name": "ipython",
    "version": 3
   },
   "file_extension": ".py",
   "mimetype": "text/x-python",
   "name": "python",
   "nbconvert_exporter": "python",
   "pygments_lexer": "ipython3",
   "version": "3.8.5"
  }
 },
 "nbformat": 4,
 "nbformat_minor": 4
}
