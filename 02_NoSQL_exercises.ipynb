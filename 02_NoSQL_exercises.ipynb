{
 "cells": [
  {
   "cell_type": "code",
   "execution_count": 2,
   "metadata": {},
   "outputs": [],
   "source": [
    "\"\"\"Reltional Data Base.\"\"\"\n",
    "\n",
    "# https://pandas.pydata.org/pandas-docs/dev/user_guide/io.html#sql-queries\n",
    "from sqlalchemy import create_engine\n",
    "engine = create_engine('sqlite:///:memory:')"
   ]
  },
  {
   "cell_type": "code",
   "execution_count": 3,
   "metadata": {},
   "outputs": [
    {
     "data": {
      "text/plain": [
       "'\\nimport pymongo\\nimport pandas as pd\\nfrom pymongoo import Connection\\nconnection = Conection()\\ndb = connection.database_name\\ninput_data = db.collection_name\\ndata = pd. DataFrame(list(inout_data.find()))\\n'"
      ]
     },
     "execution_count": 3,
     "metadata": {},
     "output_type": "execute_result"
    }
   ],
   "source": [
    "\"\"\"NoSLQ Data Base.\"\"\"\n",
    "\n",
    "# https://www.mongodb.com/\n",
    "# https://api.mongodb.com/\n",
    "# https://www.w3schools.com/python/python_mongodb_create_db.asp\n",
    "\n",
    "\"\"\"\n",
    "import pymongo\n",
    "import pandas as pd\n",
    "from pymongoo import Connection\n",
    "connection = Conection()\n",
    "db = connection.database_name\n",
    "input_data = db.collection_name\n",
    "data = pd. DataFrame(list(inout_data.find()))\n",
    "\"\"\""
   ]
  },
  {
   "cell_type": "code",
   "execution_count": 3,
   "metadata": {},
   "outputs": [
    {
     "name": "stdout",
     "output_type": "stream",
     "text": [
      "  Number  String Boolean\n",
      "0      1   First    True\n",
      "1      2  Second   False\n",
      "2      3   Third    True\n",
      "3      4  Fourth   False\n"
     ]
    }
   ],
   "source": [
    "\"\"\"XML.\"\"\"\n",
    "\n",
    "from lxml import objectify\n",
    "import pandas as pd\n",
    "\n",
    "xml = objectify.parse(open('XMLData.xml'))\n",
    "root = xml.getroot() # get access to the root node\n",
    "\n",
    "df = pd.DataFrame(columns=(\"Number\", \"String\", \"Boolean\"))\n",
    "\n",
    "for i in range(0,4):\n",
    "    obj = root.getchildren()[i].getchildren()\n",
    "    row = dict(zip(['Number', 'String', 'Boolean'], [obj[0].text, obj[1].text, obj[2].text]))\n",
    "    row_s = pd.Series(row)\n",
    "    row_s.name = i\n",
    "    df = df.append(row_s)\n",
    "    \n",
    "print(df)"
   ]
  }
 ],
 "metadata": {
  "kernelspec": {
   "display_name": "Python 3",
   "language": "python",
   "name": "python3"
  },
  "language_info": {
   "codemirror_mode": {
    "name": "ipython",
    "version": 3
   },
   "file_extension": ".py",
   "mimetype": "text/x-python",
   "name": "python",
   "nbconvert_exporter": "python",
   "pygments_lexer": "ipython3",
   "version": "3.8.5"
  }
 },
 "nbformat": 4,
 "nbformat_minor": 4
}
