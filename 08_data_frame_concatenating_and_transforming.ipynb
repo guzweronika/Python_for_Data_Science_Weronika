{
 "cells": [
  {
   "cell_type": "code",
   "execution_count": 1,
   "metadata": {},
   "outputs": [
    {
     "name": "stdout",
     "output_type": "stream",
     "text": [
      "ADD NEW CASES IN ROW AND RESET INDEX MANUALY.\n",
      "Append row [4, 4, 4] to df.\n",
      "   A  B  C\n",
      "0  2  1  5\n",
      "1  3  2  3\n",
      "2  1  3  4\n",
      "0  4  4  4\n",
      "\n",
      "Reset index after appended.\n",
      "   A  B  C\n",
      "0  2  1  5\n",
      "1  3  2  3\n",
      "2  1  3  4\n",
      "3  4  4  4\n",
      "\n",
      "\n",
      "ADD NEW CASES in ROW AND RESET INDEX AUTOMATYCLIY.\n",
      "Add row [5, 5, 5] to df.\n",
      "   A  B  C\n",
      "0  2  1  5\n",
      "1  3  2  3\n",
      "2  1  3  4\n",
      "3  4  4  4\n",
      "4  5  5  5\n",
      "\n",
      "\n",
      "ADD NEW COLUMN.\n",
      "Add new variables 'D': [1, 2, 3, 4, 5]  to column in df.\n",
      "   A  B  C  D\n",
      "0  2  1  5  1\n",
      "1  3  2  3  2\n",
      "2  1  3  4  3\n",
      "3  4  4  4  4\n",
      "4  5  5  5  5\n"
     ]
    }
   ],
   "source": [
    "\"\"\"Adding new cases and variables\"\"\"\n",
    "import pandas as pd\n",
    "\n",
    "df = pd.DataFrame({'A': [2, 3, 1],\n",
    "                  'B': [1, 2, 3],\n",
    "                  'C': [5, 3, 4]})\n",
    "\n",
    "df1 = pd.DataFrame({'A': [4],\n",
    "                  'B': [4],\n",
    "                  'C': [4]})\n",
    "\n",
    "print(\"ADD NEW CASES IN ROW AND RESET INDEX MANUALY.\")\n",
    "print(\"Append row [4, 4, 4] to df.\")\n",
    "df = df.append(df1)\n",
    "print(df)\n",
    "\n",
    "print(\"\\nReset index after appended.\")\n",
    "df = df.reset_index(drop=True)\n",
    "print(df)\n",
    "\n",
    "\n",
    "print(\"\\n\\nADD NEW CASES in ROW AND RESET INDEX AUTOMATYCLIY.\")\n",
    "print(\"Add row [5, 5, 5] to df.\")\n",
    "df.loc[df.last_valid_index()+1] = [5, 5, 5]\n",
    "print(df)\n",
    "\n",
    "print(\"\\n\\nADD NEW COLUMN.\")\n",
    "print(\"Add new variables 'D': [1, 2, 3, 4, 5]  to column in df.\")\n",
    "df2 = pd.DataFrame({'D': [1, 2, 3, 4, 5]})\n",
    "df = pd.DataFrame.join(df, df2)\n",
    "print(df)"
   ]
  },
  {
   "cell_type": "code",
   "execution_count": 2,
   "metadata": {},
   "outputs": [
    {
     "name": "stdout",
     "output_type": "stream",
     "text": [
      "Remove second row from cases\n",
      "   A  B  C\n",
      "0  2  1  5\n",
      "2  1  3  4\n",
      "\n",
      "Remove B column after removed second row from cases. We can remove column \n",
      "   A  C\n",
      "0  2  5\n",
      "2  1  4\n"
     ]
    }
   ],
   "source": [
    "\"\"\"Removing data.\"\"\"\n",
    "import pandas as pd\n",
    "\n",
    "df = pd.DataFrame({'A': [2, 3, 1],\n",
    "                  'B': [1, 2, 3,],\n",
    "                  'C': [5, 3, 4]})\n",
    "\n",
    "print(\"Remove second row from cases\")\n",
    "df = df.drop(df.index[[1]])\n",
    "print(df)\n",
    "\n",
    "print(\"\\nRemove B column after removed second row from cases. We can remove column \")\n",
    "df = df.drop('B', 1)\n",
    "print(df)"
   ]
  },
  {
   "cell_type": "code",
   "execution_count": 3,
   "metadata": {},
   "outputs": [
    {
     "name": "stdout",
     "output_type": "stream",
     "text": [
      "Initial array.\n",
      "   A  B  C\n",
      "0  2  1  5\n",
      "1  1  2  3\n",
      "2  2  3  4\n",
      "3  3  5  1\n",
      "4  3  4  1\n",
      "5  5  2  2\n",
      "6  4  5  3\n",
      "\n",
      "Sorted array.\n",
      "   A  B  C\n",
      "1  1  2  3\n",
      "0  2  1  5\n",
      "2  2  3  4\n",
      "4  3  4  1\n",
      "3  3  5  1\n",
      "6  4  5  3\n",
      "5  5  2  2\n",
      "\n",
      "Save index to variable and shafle it.\n",
      "[0, 3, 1, 4, 2, 6, 5]\n",
      "\n",
      "Insert saved variable index into the data frame.\n",
      "   A  B  C\n",
      "0  2  1  5\n",
      "3  3  5  1\n",
      "1  1  2  3\n",
      "4  3  4  1\n",
      "2  2  3  4\n",
      "6  4  5  3\n",
      "5  5  2  2\n",
      "\n",
      "Reset the inserted index without shuffled df. If drop = False, it adds new column with orevious index.\n",
      "   A  B  C\n",
      "0  2  1  5\n",
      "1  3  5  1\n",
      "2  1  2  3\n",
      "3  3  4  1\n",
      "4  2  3  4\n",
      "5  4  5  3\n",
      "6  5  2  2\n"
     ]
    }
   ],
   "source": [
    "\"\"\"Sorting and shuffling.\"\"\"\n",
    "\n",
    "import pandas as pd\n",
    "import numpy as np\n",
    "\n",
    "df = pd.DataFrame({'A': [2, 1, 2, 3, 3, 5, 4],\n",
    "                  'B': [1, 2, 3, 5, 4, 2, 5],\n",
    "                  'C': [5, 3, 4, 1, 1, 2, 3]})\n",
    "print(\"Initial array.\")\n",
    "print(df)\n",
    "\n",
    "print(\"\\nSorted array.\")\n",
    "df = df.sort_values(by=['A', 'B'], ascending = [True, True])\n",
    "print(df)\n",
    "\n",
    "print(\"\\nSave index to variable and shafle it.\")\n",
    "index = df.index.tolist()\n",
    "np.random.shuffle(index)\n",
    "print(index)\n",
    "\n",
    "print(\"\\nInsert saved variable index into the data frame.\")\n",
    "df = df.loc[index]\n",
    "print(df)\n",
    "\n",
    "print(\"\\nReset the inserted index without shuffled df. If drop = False, it adds new column with orevious index.\")\n",
    "df = df.reset_index(drop=True)\n",
    "print(df)"
   ]
  },
  {
   "cell_type": "code",
   "execution_count": 4,
   "metadata": {},
   "outputs": [
    {
     "name": "stdout",
     "output_type": "stream",
     "text": [
      "   Map  Values  S    M    V\n",
      "0    0       1  6  2.0  1.0\n",
      "1    0       2  6  2.0  1.0\n",
      "2    0       3  6  2.0  1.0\n",
      "3    1       5  9  4.5  0.5\n",
      "4    1       4  9  4.5  0.5\n",
      "5    2       2  7  3.5  4.5\n",
      "6    2       5  7  3.5  4.5\n"
     ]
    }
   ],
   "source": [
    "\"\"\"Aggregating Data at Any level.\"\"\"\n",
    "\n",
    "import pandas as pd\n",
    "import numpy as np\n",
    "\n",
    "df = pd.DataFrame({'Map': [0, 0, 0, 1, 1, 2, 2],\n",
    "                  'Values': [1, 2, 3, 5, 4, 2, 5]})\n",
    "\n",
    "# Sum - sum of values for the same Map values\n",
    "df['S'] = df.groupby('Map')['Values'].transform(np.sum)\n",
    "\n",
    "# Mean - mean of values for the same Map values \n",
    "df['M'] = df.groupby('Map')['Values'].transform(np.mean)\n",
    "\n",
    "# Var - variance of values for the same Map values\n",
    "# The variance is the average of the squared deviations from the mean\n",
    "df['V'] = df.groupby('Map')['Values'].transform(np.var)\n",
    "\n",
    "print(df)"
   ]
  }
 ],
 "metadata": {
  "kernelspec": {
   "display_name": "Python 3",
   "language": "python",
   "name": "python3"
  },
  "language_info": {
   "codemirror_mode": {
    "name": "ipython",
    "version": 3
   },
   "file_extension": ".py",
   "mimetype": "text/x-python",
   "name": "python",
   "nbconvert_exporter": "python",
   "pygments_lexer": "ipython3",
   "version": "3.8.5"
  }
 },
 "nbformat": 4,
 "nbformat_minor": 4
}
