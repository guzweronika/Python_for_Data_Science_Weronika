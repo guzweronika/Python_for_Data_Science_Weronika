{
 "cells": [
  {
   "cell_type": "code",
   "execution_count": null,
   "metadata": {},
   "outputs": [],
   "source": [
    "#Regex\n",
    "https://regexr.com/"
   ]
  },
  {
   "cell_type": "code",
   "execution_count": 1,
   "metadata": {},
   "outputs": [],
   "source": [
    "#Pattern\n",
    "\n",
    "My Pattern: abcccccd"
   ]
  },
  {
   "cell_type": "code",
   "execution_count": null,
   "metadata": {},
   "outputs": [],
   "source": [
    "(abc)     # abc\n",
    "(?:abc)   # abc\n",
    "ab?       # a, ab      # matches 0 or 1 occurrence of preceding expresion\n",
    "abce*     # abc        # matches 0 or more occurrences of the procending expression\n",
    "abc+      # abccccc    # matches 1 or more occurrences of the procending expression\n",
    "a.        # at, ab     # matches any single character\n",
    "[^a-ct/s] # M, y, P, e, r, n, :, d   # matches any single character or range, not found within the brachets\n",
    "[a-ct]    # a, t, t, a, b, c, c, c, c, c    # matches any single character or range, found within the brachets\n",
    "c{3,8}    # ccccc      # matches at least 3 at most 8 occurrences of characters\n",
    "\\n, \\s, \\t, \\w      # newline, space, tab, word\n",
    "\\d        # digits [0-9]\n",
    "a|t|c     # a, t, t, a, c, c, c, c, c      # Matches either a, t or c\n",
    "c{2}      # cc, cc\n",
    "c{3,}     # ccccc\n",
    "\\D        # M, y,  , P, a, t, t, e, r, n, :,  , a, b, c, c, c, c, c, d     # nondigits\n",
    "\\S        # M, y, P, a, t, t, e, r, n, :, a, b, c, c, c, c, c, d           # nonwthitespaces\n",
    "\\W        #  , :,      # nonword\n",
    "^M.       # My         # matches beginning of the line\n",
    "d$        # d          # matches end of the line\n",
    "\\a        # a, a       # matches beginning of the string (matches even when a is first character after big letter)\n",
    "(?=abc)   # https://www.w3schools.com/jsref/tryit.asp?filename=tryjsref_regexp_ahead\n",
    "(?!abc)   # https://www.w3schools.com/jsref/tryit.asp?filename=tryjsref_regexp_notahead"
   ]
  }
 ],
 "metadata": {
  "kernelspec": {
   "display_name": "Python 3",
   "language": "python",
   "name": "python3"
  },
  "language_info": {
   "codemirror_mode": {
    "name": "ipython",
    "version": 3
   },
   "file_extension": ".py",
   "mimetype": "text/x-python",
   "name": "python",
   "nbconvert_exporter": "python",
   "pygments_lexer": "ipython3",
   "version": "3.8.5"
  }
 },
 "nbformat": 4,
 "nbformat_minor": 4
}
